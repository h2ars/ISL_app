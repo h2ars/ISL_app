{
 "cells": [
  {
   "cell_type": "code",
   "execution_count": 3,
   "metadata": {},
   "outputs": [],
   "source": [
    "import os\n",
    "import numpy as np\n",
    "import tensorflow as tf\n",
    "\n",
    "assert tf.__version__.startswith(\"2\")\n",
    "\n",
    "from mediapipe_model_maker import gesture_recognizer\n",
    "\n",
    "import matplotlib.pyplot as plt\n"
   ]
  },
  {
   "cell_type": "code",
   "execution_count": 6,
   "metadata": {},
   "outputs": [],
   "source": [
    "DATASET_PATH = \"../data\"\n"
   ]
  },
  {
   "cell_type": "code",
   "execution_count": 7,
   "metadata": {},
   "outputs": [
    {
     "name": "stdout",
     "output_type": "stream",
     "text": [
      "../data\n",
      "['a', 'b', 'c', 'd', 'e', 'f', 'g', 'h', 'i', 'j', 'k', 'l', 'm', 'n', 'None', 'o', 'p', 'q', 'r', 's', 't', 'u', 'v', 'w', 'x', 'y', 'z']\n"
     ]
    }
   ],
   "source": [
    "print(DATASET_PATH)\n",
    "labels = []\n",
    "for i in os.listdir(DATASET_PATH):\n",
    "    if os.path.isdir(os.path.join(DATASET_PATH, i)):\n",
    "        labels.append(i)\n",
    "print(labels)\n"
   ]
  },
  {
   "cell_type": "code",
   "execution_count": null,
   "metadata": {},
   "outputs": [],
   "source": [
    "NUM_EXAMPLES = 5\n",
    "\n",
    "for label in labels:\n",
    "    label_dir = os.path.join(DATASET_PATH, label)\n",
    "    example_filenames = np.random.choice(os.listdir(label_dir), NUM_EXAMPLES)\n",
    "    fig, axs = plt.subplots(1, NUM_EXAMPLES, figsize=(10, 2))\n",
    "    for i in range(NUM_EXAMPLES):\n",
    "        axs[i].imshow(plt.imread(os.path.join(label_dir, example_filenames[i])))\n",
    "        axs[i].get_xaxis().set_visible(False)\n",
    "        axs[i].get_yaxis().set_visible(False)\n",
    "    fig.suptitle(f\"Showing {NUM_EXAMPLES} examples for {label}\")\n",
    "\n",
    "plt.show()\n"
   ]
  },
  {
   "cell_type": "code",
   "execution_count": 8,
   "metadata": {},
   "outputs": [
    {
     "ename": "RuntimeError",
     "evalue": "File loading is not yet supported on Windows",
     "output_type": "error",
     "traceback": [
      "\u001b[1;31m---------------------------------------------------------------------------\u001b[0m",
      "\u001b[1;31mRuntimeError\u001b[0m                              Traceback (most recent call last)",
      "Cell \u001b[1;32mIn[8], line 1\u001b[0m\n\u001b[1;32m----> 1\u001b[0m data \u001b[39m=\u001b[39m gesture_recognizer\u001b[39m.\u001b[39;49mDataset\u001b[39m.\u001b[39;49mfrom_folder(\n\u001b[0;32m      2\u001b[0m     dirname\u001b[39m=\u001b[39;49mDATASET_PATH,\n\u001b[0;32m      3\u001b[0m     hparams\u001b[39m=\u001b[39;49mgesture_recognizer\u001b[39m.\u001b[39;49mHandDataPreprocessingParams()\n\u001b[0;32m      4\u001b[0m )\n\u001b[0;32m      5\u001b[0m train_data, rest_data \u001b[39m=\u001b[39m data\u001b[39m.\u001b[39msplit(\u001b[39m0.8\u001b[39m)\n\u001b[0;32m      6\u001b[0m validation_data, test_data \u001b[39m=\u001b[39m rest_data\u001b[39m.\u001b[39msplit(\u001b[39m0.5\u001b[39m)\n",
      "File \u001b[1;32mc:\\Users\\trfdeer\\scoop\\apps\\python310\\current\\lib\\site-packages\\mediapipe_model_maker\\python\\vision\\gesture_recognizer\\dataset.py:202\u001b[0m, in \u001b[0;36mDataset.from_folder\u001b[1;34m(cls, dirname, hparams)\u001b[0m\n\u001b[0;32m    195\u001b[0m all_gesture_indices \u001b[39m=\u001b[39m [\n\u001b[0;32m    196\u001b[0m     index_by_label[os\u001b[39m.\u001b[39mpath\u001b[39m.\u001b[39mbasename(os\u001b[39m.\u001b[39mpath\u001b[39m.\u001b[39mdirname(path))]\n\u001b[0;32m    197\u001b[0m     \u001b[39mfor\u001b[39;00m path \u001b[39min\u001b[39;00m all_image_paths\n\u001b[0;32m    198\u001b[0m ]\n\u001b[0;32m    200\u001b[0m \u001b[39m# Compute hand data (including local hand landmark, world hand landmark, and\u001b[39;00m\n\u001b[0;32m    201\u001b[0m \u001b[39m# handedness) for all the input images.\u001b[39;00m\n\u001b[1;32m--> 202\u001b[0m hand_data \u001b[39m=\u001b[39m _get_hand_data(\n\u001b[0;32m    203\u001b[0m     all_image_paths\u001b[39m=\u001b[39;49mall_image_paths,\n\u001b[0;32m    204\u001b[0m     min_detection_confidence\u001b[39m=\u001b[39;49mhparams\u001b[39m.\u001b[39;49mmin_detection_confidence)\n\u001b[0;32m    206\u001b[0m \u001b[39m# Get a list of the valid hand landmark sample in the hand data list.\u001b[39;00m\n\u001b[0;32m    207\u001b[0m valid_indices \u001b[39m=\u001b[39m [\n\u001b[0;32m    208\u001b[0m     i \u001b[39mfor\u001b[39;00m i \u001b[39min\u001b[39;00m \u001b[39mrange\u001b[39m(\u001b[39mlen\u001b[39m(hand_data)) \u001b[39mif\u001b[39;00m hand_data[i] \u001b[39mis\u001b[39;00m \u001b[39mnot\u001b[39;00m \u001b[39mNone\u001b[39;00m\n\u001b[0;32m    209\u001b[0m ]\n",
      "File \u001b[1;32mc:\\Users\\trfdeer\\scoop\\apps\\python310\\current\\lib\\site-packages\\mediapipe_model_maker\\python\\vision\\gesture_recognizer\\dataset.py:114\u001b[0m, in \u001b[0;36m_get_hand_data\u001b[1;34m(all_image_paths, min_detection_confidence)\u001b[0m\n\u001b[0;32m    104\u001b[0m hand_landmarker_writer \u001b[39m=\u001b[39m metadata_writer\u001b[39m.\u001b[39mHandLandmarkerMetadataWriter(\n\u001b[0;32m    105\u001b[0m     hand_detector_model_buffer, hand_landmarks_detector_model_buffer)\n\u001b[0;32m    106\u001b[0m hand_landmarker_options \u001b[39m=\u001b[39m _HandLandmarkerOptions(\n\u001b[0;32m    107\u001b[0m     base_options\u001b[39m=\u001b[39mbase_options_module\u001b[39m.\u001b[39mBaseOptions(\n\u001b[0;32m    108\u001b[0m         model_asset_buffer\u001b[39m=\u001b[39mhand_landmarker_writer\u001b[39m.\u001b[39mpopulate()),\n\u001b[1;32m   (...)\u001b[0m\n\u001b[0;32m    112\u001b[0m     min_tracking_confidence\u001b[39m=\u001b[39m\u001b[39m1\u001b[39m,\n\u001b[0;32m    113\u001b[0m )\n\u001b[1;32m--> 114\u001b[0m \u001b[39mwith\u001b[39;00m _HandLandmarker\u001b[39m.\u001b[39;49mcreate_from_options(\n\u001b[0;32m    115\u001b[0m     hand_landmarker_options) \u001b[39mas\u001b[39;00m hand_landmarker:\n\u001b[0;32m    116\u001b[0m   \u001b[39mfor\u001b[39;00m path \u001b[39min\u001b[39;00m all_image_paths:\n\u001b[0;32m    117\u001b[0m     tf\u001b[39m.\u001b[39mcompat\u001b[39m.\u001b[39mv1\u001b[39m.\u001b[39mlogging\u001b[39m.\u001b[39minfo(\u001b[39m'\u001b[39m\u001b[39mLoading image \u001b[39m\u001b[39m%s\u001b[39;00m\u001b[39m'\u001b[39m, path)\n",
      "File \u001b[1;32mc:\\Users\\trfdeer\\scoop\\apps\\python310\\current\\lib\\site-packages\\mediapipe\\tasks\\python\\vision\\hand_landmarker.py:271\u001b[0m, in \u001b[0;36mHandLandmarker.create_from_options\u001b[1;34m(cls, options)\u001b[0m\n\u001b[0;32m    254\u001b[0m   options\u001b[39m.\u001b[39mresult_callback(hand_landmarks_detection_result, image,\n\u001b[0;32m    255\u001b[0m                           timestamp\u001b[39m.\u001b[39mvalue \u001b[39m/\u001b[39m\u001b[39m/\u001b[39m _MICRO_SECONDS_PER_MILLISECOND)\n\u001b[0;32m    257\u001b[0m task_info \u001b[39m=\u001b[39m _TaskInfo(\n\u001b[0;32m    258\u001b[0m     task_graph\u001b[39m=\u001b[39m_TASK_GRAPH_NAME,\n\u001b[0;32m    259\u001b[0m     input_streams\u001b[39m=\u001b[39m[\n\u001b[1;32m   (...)\u001b[0m\n\u001b[0;32m    269\u001b[0m     ],\n\u001b[0;32m    270\u001b[0m     task_options\u001b[39m=\u001b[39moptions)\n\u001b[1;32m--> 271\u001b[0m \u001b[39mreturn\u001b[39;00m \u001b[39mcls\u001b[39;49m(\n\u001b[0;32m    272\u001b[0m     task_info\u001b[39m.\u001b[39;49mgenerate_graph_config(\n\u001b[0;32m    273\u001b[0m         enable_flow_limiting\u001b[39m=\u001b[39;49moptions\u001b[39m.\u001b[39;49mrunning_mode \u001b[39m==\u001b[39;49m\n\u001b[0;32m    274\u001b[0m         _RunningMode\u001b[39m.\u001b[39;49mLIVE_STREAM), options\u001b[39m.\u001b[39;49mrunning_mode,\n\u001b[0;32m    275\u001b[0m     packets_callback \u001b[39mif\u001b[39;49;00m options\u001b[39m.\u001b[39;49mresult_callback \u001b[39melse\u001b[39;49;00m \u001b[39mNone\u001b[39;49;00m)\n",
      "File \u001b[1;32mc:\\Users\\trfdeer\\scoop\\apps\\python310\\current\\lib\\site-packages\\mediapipe\\tasks\\python\\vision\\core\\base_vision_task_api.py:65\u001b[0m, in \u001b[0;36mBaseVisionTaskApi.__init__\u001b[1;34m(self, graph_config, running_mode, packet_callback)\u001b[0m\n\u001b[0;32m     61\u001b[0m \u001b[39melif\u001b[39;00m packet_callback:\n\u001b[0;32m     62\u001b[0m   \u001b[39mraise\u001b[39;00m \u001b[39mValueError\u001b[39;00m(\n\u001b[0;32m     63\u001b[0m       \u001b[39m'\u001b[39m\u001b[39mThe vision task is in image or video mode, a user-defined result \u001b[39m\u001b[39m'\u001b[39m\n\u001b[0;32m     64\u001b[0m       \u001b[39m'\u001b[39m\u001b[39mcallback should not be provided.\u001b[39m\u001b[39m'\u001b[39m)\n\u001b[1;32m---> 65\u001b[0m \u001b[39mself\u001b[39m\u001b[39m.\u001b[39m_runner \u001b[39m=\u001b[39m _TaskRunner\u001b[39m.\u001b[39;49mcreate(graph_config, packet_callback)\n\u001b[0;32m     66\u001b[0m \u001b[39mself\u001b[39m\u001b[39m.\u001b[39m_running_mode \u001b[39m=\u001b[39m running_mode\n",
      "\u001b[1;31mRuntimeError\u001b[0m: File loading is not yet supported on Windows"
     ]
    }
   ],
   "source": [
    "data = gesture_recognizer.Dataset.from_folder(\n",
    "    dirname=DATASET_PATH, hparams=gesture_recognizer.HandDataPreprocessingParams()\n",
    ")\n",
    "train_data, rest_data = data.split(0.8)\n",
    "validation_data, test_data = rest_data.split(0.5)\n"
   ]
  },
  {
   "cell_type": "code",
   "execution_count": null,
   "metadata": {},
   "outputs": [],
   "source": []
  }
 ],
 "metadata": {
  "kernelspec": {
   "display_name": "Python 3",
   "language": "python",
   "name": "python3"
  },
  "language_info": {
   "codemirror_mode": {
    "name": "ipython",
    "version": 3
   },
   "file_extension": ".py",
   "mimetype": "text/x-python",
   "name": "python",
   "nbconvert_exporter": "python",
   "pygments_lexer": "ipython3",
   "version": "3.10.10"
  },
  "orig_nbformat": 4,
  "vscode": {
   "interpreter": {
    "hash": "1d04b9e7b647172f6ed20835b9c26fa99447ec6c298e0a60dc038bee59b74977"
   }
  }
 },
 "nbformat": 4,
 "nbformat_minor": 2
}
